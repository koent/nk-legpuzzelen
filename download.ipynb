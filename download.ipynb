{
 "cells": [
  {
   "cell_type": "code",
   "execution_count": 1,
   "id": "83a6cf20",
   "metadata": {},
   "outputs": [],
   "source": [
    "from html.parser import HTMLParser\n",
    "\n",
    "\n",
    "def attr_value(attrs, attr):\n",
    "    for (name, value) in attrs:\n",
    "        if name == attr:\n",
    "            return value.split(' ')\n",
    "    return []\n",
    "\n",
    "class AgendaParser(HTMLParser):\n",
    "    values = []\n",
    "\n",
    "    def handle_starttag(self, tag, attrs):\n",
    "        if tag == 'div' and 'event' in attr_value(attrs, 'class'):\n",
    "            event_kind = 'teams' if 'Teams' in attr_value(attrs, 'class') else 'other'\n",
    "            self.values.append([event_kind, 'href', 'startDate'])\n",
    "\n",
    "        if tag == 'a' and 'evenement-tegel-link' in attr_value(attrs, 'class'):\n",
    "            href = attr_value(attrs, 'href')[0]\n",
    "            self.values[-1][1] = href\n",
    "\n",
    "        if tag == 'time' and 'startDate' in attr_value(attrs, 'itemprop'):\n",
    "            start_date = attr_value(attrs, 'datetime')[0]\n",
    "            self.values[-1][2] = start_date"
   ]
  },
  {
   "cell_type": "code",
   "execution_count": null,
   "id": "cae3907f",
   "metadata": {},
   "outputs": [],
   "source": [
    "import requests\n",
    "\n",
    "base_url = \"https://www.nklegpuzzelen.nl/\"\n",
    "\n",
    "agenda_parser = AgendaParser()\n",
    "\n",
    "r = requests.get(base_url + 'agenda-inschrijven/')\n",
    "agenda_parser.feed(r.text)"
   ]
  },
  {
   "cell_type": "code",
   "execution_count": 3,
   "id": "4869be5f",
   "metadata": {},
   "outputs": [],
   "source": [
    "from_date = '2024-06-01'\n",
    "till_date = '2025-03-01'\n",
    "\n",
    "preliminary_events = []\n",
    "final_event = None\n",
    "\n",
    "for line in agenda_parser.values:\n",
    "    if line[0] == 'teams' and from_date < line[2] and line[2] < till_date:\n",
    "        preliminary_events.append(line)\n",
    "\n",
    "\n",
    "for line in agenda_parser.values:\n",
    "    if line[0] == 'teams' and line[2] > till_date:\n",
    "        final_event = line\n",
    "        final_event[0] = 'final'"
   ]
  },
  {
   "cell_type": "code",
   "execution_count": 5,
   "id": "8c3c4023",
   "metadata": {},
   "outputs": [],
   "source": [
    "class EventParser(HTMLParser):\n",
    "    track_data = False\n",
    "    td_open = False\n",
    "    values = []\n",
    "\n",
    "    def handle_starttag(self, tag, attrs):\n",
    "        if tag == 'div' and 'mod_mod_nk_livestanden' in attr_value(attrs, 'class'):\n",
    "            self.track_data = True\n",
    "        \n",
    "        if tag == 'td':\n",
    "            self.td_open = True\n",
    "    \n",
    "    def handle_endtag(self, tag):\n",
    "        if tag == 'div':\n",
    "            self.track_data = False\n",
    "\n",
    "        if tag == 'td':\n",
    "            self.td_open = False\n",
    "        \n",
    "    def handle_data(self, data):\n",
    "        if self.track_data and self.td_open:\n",
    "            value = data.strip()\n",
    "            if len(self.values) == 0 or len(self.values[-1]) == 3:\n",
    "                self.values.append([value])\n",
    "            else:\n",
    "                self.values[-1].append(value)\n",
    "\n",
    "    def reset2(self):\n",
    "        self.track_data = False\n",
    "        self.td_open = False\n",
    "        self.values = []"
   ]
  },
  {
   "cell_type": "code",
   "execution_count": 7,
   "id": "32b2fd7e",
   "metadata": {},
   "outputs": [
    {
     "name": "stdout",
     "output_type": "stream",
     "text": [
      "teteringen\n",
      "obdam-2\n",
      "obdam\n",
      "roelofarendsveen-4\n",
      "roelofarendsveen-3\n",
      "roelofarendsveen-2\n",
      "zwartebroek\n",
      "meterik\n",
      "reek-2\n",
      "sleeuwijk\n",
      "vorden\n",
      "hooghalen\n",
      "de-lier-2\n",
      "de-lier\n",
      "meppel\n",
      "final\n"
     ]
    }
   ],
   "source": [
    "import csv\n",
    "import requests\n",
    "import os\n",
    "\n",
    "os.makedirs('data', exist_ok=True)\n",
    "\n",
    "base_url = \"https://www.nklegpuzzelen.nl/\"\n",
    "event_parser = EventParser()\n",
    "\n",
    "for line in preliminary_events + [final_event]:\n",
    "    title = 'final' if line[0] == 'final' else line[1].split('/')[-1]\n",
    "    print(title)\n",
    "\n",
    "    r = requests.get(base_url + line[1])\n",
    "    \n",
    "    event_parser.feed(r.text)\n",
    "\n",
    "    with open(f'data/{title}.csv', 'w') as f:\n",
    "        writer = csv.writer(f)\n",
    "        for line in event_parser.values:\n",
    "            writer.writerow(line)\n",
    "    \n",
    "    event_parser.reset2()"
   ]
  }
 ],
 "metadata": {
  "kernelspec": {
   "display_name": "Python 3",
   "language": "python",
   "name": "python3"
  },
  "language_info": {
   "codemirror_mode": {
    "name": "ipython",
    "version": 3
   },
   "file_extension": ".py",
   "mimetype": "text/x-python",
   "name": "python",
   "nbconvert_exporter": "python",
   "pygments_lexer": "ipython3",
   "version": "3.12.3"
  }
 },
 "nbformat": 4,
 "nbformat_minor": 5
}
