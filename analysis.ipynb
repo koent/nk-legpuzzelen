{
 "cells": [
  {
   "cell_type": "markdown",
   "id": "ed2e64fa",
   "metadata": {},
   "source": [
    "# Analysis of NK Legpuzzelen results"
   ]
  },
  {
   "cell_type": "markdown",
   "id": "de7055fd",
   "metadata": {},
   "source": [
    "Define functions and data structures"
   ]
  },
  {
   "cell_type": "code",
   "execution_count": 1,
   "id": "72f39409",
   "metadata": {},
   "outputs": [],
   "source": [
    "from __future__ import annotations\n",
    "from dataclasses import dataclass\n",
    "\n",
    "from typing import List, Dict\n",
    "\n",
    "DEBUG = False\n",
    "\n",
    "def edit_distance(a,b,ratio=False,print_matrix=False) :\n",
    "\tif a == '' :\n",
    "\t\treturn len(b)\n",
    "\tif b == '' :\n",
    "\t\treturn len(a)\n",
    "\n",
    "\tn = len(a)\n",
    "\tm = len(b)\n",
    "\tlev = [[0] * (m+1) for _ in range(n+1)] # np.zeros((n+1,m+1))\n",
    "\n",
    "\tfor i in range(0,n+1) :\n",
    "\t\tlev[i][0] = i \n",
    "\tfor i in range(0,m+1) :\n",
    "\t\tlev[0][i] = i\n",
    "\n",
    "\tfor i in range(1,n+1) :\n",
    "\t\tfor j in range(1,m+1) :\n",
    "\t\t\tinsertion = lev[i-1][j] + 1\n",
    "\t\t\tdeletion = lev[i][j-1] + 1\n",
    "\t\t\tsubstitution = lev[i-1][j-1] + (1 if a[i-1]!= b[j-1] else 0)\n",
    "\t\t\tlev[i][j] = min(insertion,deletion,substitution)\n",
    "\n",
    "\tif print_matrix :\n",
    "\t\tprint(lev)\n",
    "\n",
    "\tif ratio :\n",
    "\t\treturn (n+m-lev[n][m])/(n+m)\n",
    "\telse :\n",
    "\t\treturn lev[n][m]\n",
    "\n",
    "@dataclass\n",
    "class Entry:\n",
    "    round: str\n",
    "    team_name: str\n",
    "    position: int\n",
    "    time_seconds: int\n",
    "    time: str\n",
    "    searchtext: str\n",
    "\n",
    "    def __init__(self, round, position, teamname, time):\n",
    "        self.round = round\n",
    "        self.position = int(position)\n",
    "        self.team_name = teamname\n",
    "        self.time = time\n",
    "        self.time_seconds = Entry.time_to_seconds(time)\n",
    "        self.searchtext = ''.join([a for a in teamname.upper() if 'A' <= a <= 'Z' or '0' <= a <= '9'])\n",
    "\n",
    "\n",
    "    def time_to_seconds(time):\n",
    "        parts = time.split(':')\n",
    "        return 3600*int(parts[0]) + 60*int(parts[1]) + int(parts[2])\n",
    "    \n",
    "    def __repr__(self):\n",
    "        return f'{self.position:2d}. {self.time_seconds:5d}s {self.team_name}'\n",
    "\n",
    "@dataclass\n",
    "class PreliminaryEntry(Entry):\n",
    "    final: FinalEntry = None\n",
    "\n",
    "    def __init__(self,round, position, teamname, time):\n",
    "        super().__init__(round, position, teamname, time)\n",
    "\n",
    "    def __repr__(self):\n",
    "        suffix = f\" ({self.final.position})\" if self.final else \"\"\n",
    "        return super().__repr__() + suffix\n",
    "    \n",
    "\n",
    "@dataclass\n",
    "class FinalEntry(Entry):\n",
    "    preliminary: PreliminaryEntry = None\n",
    "    matchlevel: int = -1\n",
    "    time_factor: float = 0  # <1 voorronde sneller, >1 finale sneller\n",
    "    \n",
    "    def __init__(self, position, teamname, time):\n",
    "        super().__init__('final', position, teamname, time)\n",
    "\n",
    "    def __repr__(self):\n",
    "        suffix = f\" ({self.preliminary.position}. {self.preliminary.round} - {self.time_factor:.3f})\" if self.preliminary else \"\"\n",
    "        return super().__repr__() + suffix\n",
    "    \n",
    "    def set_preliminary(self, entry: PreliminaryEntry):\n",
    "        if self.preliminary:\n",
    "              self.preliminary.final = None\n",
    "              \n",
    "        self.preliminary = entry\n",
    "        entry.final = self\n",
    "\n",
    "        self.matchlevel = edit_distance(self.searchtext, entry.searchtext)\n",
    "        self.time_factor = entry.time_seconds/self.time_seconds\n",
    "\n",
    "@dataclass\n",
    "class Preliminary:\n",
    "    name: str\n",
    "    entries: List[PreliminaryEntry]\n",
    "\n",
    "    def __init__(self, name):\n",
    "        self.name = name\n",
    "        self.entries = []\n",
    "\n",
    "    def time_factors(self) -> List[float]:\n",
    "        return [a.final.time_factor for a in self.entries if a.final]\n",
    "\n",
    "    def __repr__(self):\n",
    "        time_factors = self.time_factors()\n",
    "        result = f\"{self.name} {', '.join([f'{f:.3f}' for f in time_factors])}\\n\"\n",
    "        for entry in self.entries:\n",
    "            result += repr(entry) + '\\n'\n",
    "        return result\n"
   ]
  },
  {
   "cell_type": "markdown",
   "id": "5b44daa8",
   "metadata": {},
   "source": [
    "Load preliminaries and final data "
   ]
  },
  {
   "cell_type": "code",
   "execution_count": 2,
   "id": "21100bb9",
   "metadata": {},
   "outputs": [],
   "source": [
    "import os\n",
    "import csv\n",
    "\n",
    "final: List[FinalEntry] = []\n",
    "\n",
    "with open(f'data/final.csv', 'r') as f:\n",
    "    reader = csv.reader(f)\n",
    "    for line in reader:\n",
    "        entry = FinalEntry(*line)\n",
    "        final.append(entry)\n",
    "\n",
    "preliminaries : Dict[str, Preliminary] = {}\n",
    "\n",
    "for filename in os.listdir('data'):\n",
    "    if filename == 'final.csv':\n",
    "        continue\n",
    "\n",
    "    round_name = filename[:-4]\n",
    "    preliminary = Preliminary(round_name)\n",
    "    with open(f'data/{filename}', 'r') as f:\n",
    "        reader = csv.reader(f)\n",
    "        for line in reader:\n",
    "            entry = PreliminaryEntry(round_name, *line)\n",
    "            preliminary.entries.append(entry)\n",
    "    preliminaries[round_name] = preliminary"
   ]
  },
  {
   "cell_type": "markdown",
   "id": "dc1b57c6",
   "metadata": {},
   "source": [
    "Link teams from the final with teams from the preliminaries"
   ]
  },
  {
   "cell_type": "code",
   "execution_count": 3,
   "id": "a8f047cb",
   "metadata": {},
   "outputs": [],
   "source": [
    "for final_entry in final:\n",
    "    min_distance_position = (1000, 1000)\n",
    "    min_entry = None\n",
    "\n",
    "    for p in preliminaries.keys():\n",
    "        for preliminary_entry in preliminaries[p].entries:\n",
    "            distance = edit_distance(final_entry.searchtext, preliminary_entry.searchtext)\n",
    "            if (distance, preliminary_entry.position) < min_distance_position:\n",
    "                min_distance_position = (distance, preliminary_entry.position)\n",
    "                min_entry = preliminary_entry\n",
    "\n",
    "    final_entry.set_preliminary(min_entry)"
   ]
  },
  {
   "cell_type": "markdown",
   "id": "530fb95b",
   "metadata": {},
   "source": [
    "Print debug information"
   ]
  },
  {
   "cell_type": "code",
   "execution_count": 4,
   "id": "9843981d",
   "metadata": {},
   "outputs": [],
   "source": [
    "if DEBUG:\n",
    "    print('final')\n",
    "\n",
    "    for entry in final:\n",
    "        print(entry)\n",
    "    print()\n",
    "\n",
    "    for k in preliminaries.keys():\n",
    "        print(preliminaries[k])"
   ]
  },
  {
   "cell_type": "markdown",
   "id": "38fd3fd3",
   "metadata": {},
   "source": [
    "Select a team name to analyze"
   ]
  },
  {
   "cell_type": "code",
   "execution_count": 5,
   "id": "82a38071",
   "metadata": {},
   "outputs": [],
   "source": [
    "candidate_team_name = \"😎\"\n",
    "# candidate_team_name = \"High Five\""
   ]
  },
  {
   "cell_type": "markdown",
   "id": "c7bc0418",
   "metadata": {},
   "source": [
    "Analyze the selected team."
   ]
  },
  {
   "cell_type": "code",
   "execution_count": 6,
   "id": "dd43c786",
   "metadata": {},
   "outputs": [],
   "source": [
    "candidate_preliminary = None\n",
    "candidate_entry = None\n",
    "for k in preliminaries:\n",
    "    for entry in preliminaries[k].entries:\n",
    "        if entry.team_name == candidate_team_name:\n",
    "            candidate_entry = entry\n",
    "            candidate_preliminary = preliminaries[k]\n",
    "\n",
    "def mean(l):\n",
    "    return sum(l)/len(l)\n",
    "\n",
    "def time(seconds):\n",
    "    rounded = abs(int(seconds))\n",
    "    sign = \"-\" if seconds < 0 else \" \"\n",
    "    return f\"{sign}{rounded//3600:02d}:{rounded%3600//60:02d}:{rounded%60:02d}\"\n",
    "\n",
    "final_factor = mean(candidate_preliminary.time_factors())\n",
    "projected_final_time = candidate_entry.time_seconds/final_factor\n",
    "projected_final_position = len([i for i in final if i.time_seconds < projected_final_time]) + 1\n",
    "\n",
    "final_result = ('final', time(projected_final_time), projected_final_position, '--:--:--')\n",
    "\n",
    "result_data = []\n",
    "\n",
    "for k in preliminaries:\n",
    "    preliminary = preliminaries[k]\n",
    "    projected_time = projected_final_time * mean(preliminary.time_factors())\n",
    "    projected_position = len([i for i in preliminary.entries if i.time_seconds < projected_time]) + 1\n",
    "    diff_with_third = preliminary.entries[2].time_seconds - projected_time\n",
    "    result_data.append((preliminary.name, time(projected_time), projected_position, diff_with_third))"
   ]
  },
  {
   "cell_type": "markdown",
   "id": "6a89d67c",
   "metadata": {},
   "source": [
    "Show the results.\n",
    "\n",
    "Shown are the round name, projected time if the selected team participated in that round, projected position in that round and projected time difference with third place of that round if it is a preliminary\n",
    "\n",
    "Ordered by: final first, then time difference with third place"
   ]
  },
  {
   "cell_type": "code",
   "execution_count": 7,
   "id": "48197e5f",
   "metadata": {},
   "outputs": [
    {
     "name": "stdout",
     "output_type": "stream",
     "text": [
      "Round               Time        Pos    Time to 3rd\n",
      "------------------  --------  -----  -------------\n",
      "final               01:16:20     24       --:--:--\n",
      "vorden              01:13:16      1       00:20:01\n",
      "roelofarendsveen-2  01:15:35      2       00:16:46\n",
      "meterik             01:03:07      2       00:13:10\n",
      "zwartebroek         00:57:39      2       00:08:38\n",
      "obdam-2             01:14:43      2       00:07:24\n",
      "roelofarendsveen-4  01:04:56      3       00:06:14\n",
      "meppel              00:55:42      2       00:05:41\n",
      "roelofarendsveen-3  00:57:09      3       00:05:03\n",
      "de-lier             00:54:42      1       00:03:28\n",
      "teteringen          01:05:05      3       00:03:21\n",
      "obdam               00:56:46      1       00:02:55\n",
      "hooghalen           01:11:59      2       00:02:36\n",
      "sleeuwijk           01:15:03      3       00:00:20\n",
      "de-lier-2           01:28:08      4      -00:00:32\n",
      "reek-2              01:00:29      6      -00:11:02\n"
     ]
    }
   ],
   "source": [
    "import tabulate\n",
    "\n",
    "sorted_result_data = [(n, t, p, time(d)) for (n, t, p, d) in sorted(result_data, key= lambda e: e[3], reverse=True)]\n",
    "\n",
    "\n",
    "table = tabulate.tabulate([final_result] + sorted_result_data, ['Round', 'Time', 'Pos', 'Time to 3rd'], colalign=('left', 'left', 'right', 'right'))\n",
    "print(table)"
   ]
  }
 ],
 "metadata": {
  "kernelspec": {
   "display_name": "Python 3",
   "language": "python",
   "name": "python3"
  },
  "language_info": {
   "codemirror_mode": {
    "name": "ipython",
    "version": 3
   },
   "file_extension": ".py",
   "mimetype": "text/x-python",
   "name": "python",
   "nbconvert_exporter": "python",
   "pygments_lexer": "ipython3",
   "version": "3.12.3"
  }
 },
 "nbformat": 4,
 "nbformat_minor": 5
}
